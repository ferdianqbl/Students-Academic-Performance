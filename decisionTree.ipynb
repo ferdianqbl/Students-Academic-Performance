{
 "cells": [
  {
   "cell_type": "code",
   "execution_count": 4,
   "metadata": {},
   "outputs": [],
   "source": [
    "import pandas as pd\n",
    "import numpy as np\n",
    "from sklearn import tree\n"
   ]
  },
  {
   "cell_type": "code",
   "execution_count": 3,
   "metadata": {},
   "outputs": [
    {
     "name": "stdout",
     "output_type": "stream",
     "text": [
      "  gender NationalITy PlaceofBirth     StageID GradeID SectionID Topic  \\\n",
      "0      M          KW       KuwaIT  lowerlevel    G-04         A    IT   \n",
      "1      M          KW       KuwaIT  lowerlevel    G-04         A    IT   \n",
      "2      M          KW       KuwaIT  lowerlevel    G-04         A    IT   \n",
      "3      M          KW       KuwaIT  lowerlevel    G-04         A    IT   \n",
      "4      M          KW       KuwaIT  lowerlevel    G-04         A    IT   \n",
      "\n",
      "  Semester Relation  raisedhands  VisITedResources  AnnouncementsView  \\\n",
      "0        F   Father           15                16                  2   \n",
      "1        F   Father           20                20                  3   \n",
      "2        F   Father           10                 7                  0   \n",
      "3        F   Father           30                25                  5   \n",
      "4        F   Father           40                50                 12   \n",
      "\n",
      "   Discussion ParentAnsweringSurvey ParentschoolSatisfaction  \\\n",
      "0          20                   Yes                     Good   \n",
      "1          25                   Yes                     Good   \n",
      "2          30                    No                      Bad   \n",
      "3          35                    No                      Bad   \n",
      "4          50                    No                      Bad   \n",
      "\n",
      "  StudentAbsenceDays Class  \n",
      "0            Under-7     M  \n",
      "1            Under-7     M  \n",
      "2            Above-7     L  \n",
      "3            Above-7     L  \n",
      "4            Above-7     M  \n"
     ]
    }
   ],
   "source": [
    "# get data\n",
    "data = pd.read_csv('./dataset/xAPI-Edu-Data.csv')\n",
    "print(data.head())\n",
    "data.info()\n",
    "\n",
    "\n"
   ]
  }
 ],
 "metadata": {
  "kernelspec": {
   "display_name": "Python 3.10.7 ('venv': venv)",
   "language": "python",
   "name": "python3"
  },
  "language_info": {
   "codemirror_mode": {
    "name": "ipython",
    "version": 3
   },
   "file_extension": ".py",
   "mimetype": "text/x-python",
   "name": "python",
   "nbconvert_exporter": "python",
   "pygments_lexer": "ipython3",
   "version": "3.10.7"
  },
  "orig_nbformat": 4,
  "vscode": {
   "interpreter": {
    "hash": "069453ac8e7365a24596f803e0c729c200b4f4b22c7c6ff1a45d851f289ecacc"
   }
  }
 },
 "nbformat": 4,
 "nbformat_minor": 2
}
